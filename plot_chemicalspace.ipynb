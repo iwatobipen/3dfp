{
  "nbformat": 4,
  "nbformat_minor": 0,
  "metadata": {
    "colab": {
      "name": "plot_chemicalspace.ipynb",
      "version": "0.3.2",
      "provenance": [],
      "include_colab_link": true
    },
    "kernelspec": {
      "name": "python3",
      "display_name": "Python 3"
    }
  },
  "cells": [
    {
      "cell_type": "markdown",
      "metadata": {
        "id": "view-in-github",
        "colab_type": "text"
      },
      "source": [
        "<a href=\"https://colab.research.google.com/github/iwatobipen/3dfp/blob/master/plot_chemicalspace.ipynb\" target=\"_parent\"><img src=\"https://colab.research.google.com/assets/colab-badge.svg\" alt=\"Open In Colab\"/></a>"
      ]
    },
    {
      "metadata": {
        "id": "Vo9_iwRJiI62",
        "colab_type": "code",
        "colab": {
          "base_uri": "https://localhost:8080/",
          "height": 2468
        },
        "outputId": "07086d64-6b33-4729-acf9-ebb34c6008f1"
      },
      "cell_type": "code",
      "source": [
        "!wget https://repo.anaconda.com/miniconda/Miniconda3-4.5.1-Linux-x86_64.sh\n",
        "!chmod +x Miniconda3-4.5.1-Linux-x86_64.sh\n",
        "!time bash ./Miniconda3-4.5.1-Linux-x86_64.sh -b -f -p /usr/local\n",
        "!time conda install -q -y -c conda-forge rdkit"
      ],
      "execution_count": 1,
      "outputs": [
        {
          "output_type": "stream",
          "text": [
            "--2018-12-09 10:44:35--  https://repo.anaconda.com/miniconda/Miniconda3-4.5.1-Linux-x86_64.sh\n",
            "Resolving repo.anaconda.com (repo.anaconda.com)... 104.17.107.77, 104.17.111.77, 104.17.109.77, ...\n",
            "Connecting to repo.anaconda.com (repo.anaconda.com)|104.17.107.77|:443... connected.\n",
            "HTTP request sent, awaiting response... 200 OK\n",
            "Length: 58867856 (56M) [application/x-sh]\n",
            "Saving to: ‘Miniconda3-4.5.1-Linux-x86_64.sh.1’\n",
            "\n",
            "Miniconda3-4.5.1-Li 100%[===================>]  56.14M  71.1MB/s    in 0.8s    \n",
            "\n",
            "2018-12-09 10:44:35 (71.1 MB/s) - ‘Miniconda3-4.5.1-Linux-x86_64.sh.1’ saved [58867856/58867856]\n",
            "\n",
            "PREFIX=/usr/local\n",
            "installing: python-3.6.5-hc3d631a_0 ...\n",
            "Python 3.6.5 :: Anaconda, Inc.\n",
            "installing: ca-certificates-2018.03.07-0 ...\n",
            "installing: conda-env-2.6.0-h36134e3_1 ...\n",
            "installing: libgcc-ng-7.2.0-hdf63c60_3 ...\n",
            "installing: libstdcxx-ng-7.2.0-hdf63c60_3 ...\n",
            "installing: libffi-3.2.1-hd88cf55_4 ...\n",
            "installing: ncurses-6.0-h9df7e31_2 ...\n",
            "installing: openssl-1.0.2o-h20670df_0 ...\n",
            "installing: tk-8.6.7-hc745277_3 ...\n",
            "installing: xz-5.2.3-h55aa19d_2 ...\n",
            "installing: yaml-0.1.7-had09818_2 ...\n",
            "installing: zlib-1.2.11-ha838bed_2 ...\n",
            "installing: libedit-3.1-heed3624_0 ...\n",
            "installing: readline-7.0-ha6073c6_4 ...\n",
            "installing: sqlite-3.23.1-he433501_0 ...\n",
            "installing: asn1crypto-0.24.0-py36_0 ...\n",
            "installing: certifi-2018.4.16-py36_0 ...\n",
            "installing: chardet-3.0.4-py36h0f667ec_1 ...\n",
            "installing: idna-2.6-py36h82fb2a8_1 ...\n",
            "installing: pycosat-0.6.3-py36h0a5515d_0 ...\n",
            "installing: pycparser-2.18-py36hf9f622e_1 ...\n",
            "installing: pysocks-1.6.8-py36_0 ...\n",
            "installing: ruamel_yaml-0.15.35-py36h14c3975_1 ...\n",
            "installing: six-1.11.0-py36h372c433_1 ...\n",
            "installing: cffi-1.11.5-py36h9745a5d_0 ...\n",
            "installing: setuptools-39.0.1-py36_0 ...\n",
            "installing: cryptography-2.2.2-py36h14c3975_0 ...\n",
            "installing: wheel-0.31.0-py36_0 ...\n",
            "installing: pip-9.0.3-py36_0 ...\n",
            "installing: pyopenssl-17.5.0-py36h20ba746_0 ...\n",
            "installing: urllib3-1.22-py36hbe7ace6_0 ...\n",
            "installing: requests-2.18.4-py36he2e5f8d_1 ...\n",
            "installing: conda-4.5.1-py36_0 ...\n",
            "installation finished.\n",
            "WARNING:\n",
            "    You currently have a PYTHONPATH environment variable set. This may cause\n",
            "    unexpected behavior when running the Python interpreter in Miniconda3.\n",
            "    For best results, please verify that your PYTHONPATH only points to\n",
            "    directories of packages that are compatible with the Python interpreter\n",
            "    in Miniconda3: /usr/local\n",
            "\n",
            "real\t0m25.866s\n",
            "user\t0m21.266s\n",
            "sys\t0m4.252s\n",
            "Solving environment: ...working... done\n",
            "\n",
            "## Package Plan ##\n",
            "\n",
            "  environment location: /usr/local\n",
            "\n",
            "  added / updated specs: \n",
            "    - rdkit\n",
            "\n",
            "\n",
            "The following packages will be downloaded:\n",
            "\n",
            "    package                    |            build\n",
            "    ---------------------------|-----------------\n",
            "    ca-certificates-2018.11.29 |       ha4d7672_0         143 KB  conda-forge\n",
            "    xz-5.2.4                   |       h470a237_1         328 KB  conda-forge\n",
            "    pycairo-1.18.0             |   py36h4d1f301_0         205 KB  conda-forge\n",
            "    jpeg-9c                    |       h470a237_1         229 KB  conda-forge\n",
            "    xorg-xextproto-7.3.0       |       h470a237_2          26 KB  conda-forge\n",
            "    rdkit-2018.09.1            |   py36h0c1dfbd_0        19.5 MB  conda-forge\n",
            "    ------------------------------------------------------------\n",
            "                                           Total:        20.4 MB\n",
            "\n",
            "The following NEW packages will be INSTALLED:\n",
            "\n",
            "    blas:             1.0-mkl                             \n",
            "    boost:            1.68.0-py36h3e44d54_1    conda-forge\n",
            "    boost-cpp:        1.68.0-h3a22d5f_0        conda-forge\n",
            "    bzip2:            1.0.6-h470a237_2         conda-forge\n",
            "    cairo:            1.14.12-h276e583_5       conda-forge\n",
            "    fontconfig:       2.13.1-h65d0f4c_0        conda-forge\n",
            "    freetype:         2.9.1-h6debe1e_4         conda-forge\n",
            "    gettext:          0.19.8.1-h5e8e0c9_1      conda-forge\n",
            "    glib:             2.56.2-h464dc38_1        conda-forge\n",
            "    icu:              58.2-hfc679d8_0          conda-forge\n",
            "    intel-openmp:     2019.1-144                          \n",
            "    jpeg:             9c-h470a237_1            conda-forge\n",
            "    libgfortran-ng:   7.2.0-hdf63c60_3         conda-forge\n",
            "    libiconv:         1.15-h470a237_3          conda-forge\n",
            "    libpng:           1.6.36-ha92aebf_0        conda-forge\n",
            "    libtiff:          4.0.10-he6b73bb_0        conda-forge\n",
            "    libuuid:          2.32.1-h470a237_2        conda-forge\n",
            "    libxcb:           1.13-h470a237_2          conda-forge\n",
            "    libxml2:          2.9.8-h422b904_5         conda-forge\n",
            "    mkl:              2018.0.3-1                          \n",
            "    mkl_fft:          1.0.10-py36_0            conda-forge\n",
            "    mkl_random:       1.0.2-py36_0             conda-forge\n",
            "    numpy:            1.15.0-py36h1b885b7_0               \n",
            "    numpy-base:       1.15.0-py36h3dfced4_0               \n",
            "    olefile:          0.46-py_0                conda-forge\n",
            "    pandas:           0.23.4-py36hf8a1672_0    conda-forge\n",
            "    pcre:             8.41-hfc679d8_3          conda-forge\n",
            "    pillow:           5.2.0-py36heded4f4_0                \n",
            "    pixman:           0.34.0-h470a237_3        conda-forge\n",
            "    pthread-stubs:    0.4-h470a237_1           conda-forge\n",
            "    pycairo:          1.18.0-py36h4d1f301_0    conda-forge\n",
            "    python-dateutil:  2.7.5-py_0               conda-forge\n",
            "    pytz:             2018.7-py_0              conda-forge\n",
            "    rdkit:            2018.09.1-py36h0c1dfbd_0 conda-forge\n",
            "    xorg-kbproto:     1.0.7-h470a237_2         conda-forge\n",
            "    xorg-libice:      1.0.9-h470a237_4         conda-forge\n",
            "    xorg-libsm:       1.2.3-h8c8a85c_0         conda-forge\n",
            "    xorg-libx11:      1.6.6-h470a237_0         conda-forge\n",
            "    xorg-libxau:      1.0.8-h470a237_6         conda-forge\n",
            "    xorg-libxdmcp:    1.1.2-h470a237_7         conda-forge\n",
            "    xorg-libxext:     1.3.3-h470a237_4         conda-forge\n",
            "    xorg-libxrender:  0.9.10-h470a237_2        conda-forge\n",
            "    xorg-renderproto: 0.11.1-h470a237_2        conda-forge\n",
            "    xorg-xextproto:   7.3.0-h470a237_2         conda-forge\n",
            "    xorg-xproto:      7.0.31-h470a237_7        conda-forge\n",
            "\n",
            "The following packages will be UPDATED:\n",
            "\n",
            "    ca-certificates:  2018.03.07-0                         --> 2018.11.29-ha4d7672_0 conda-forge\n",
            "    certifi:          2018.4.16-py36_0                     --> 2018.11.29-py36_1000  conda-forge\n",
            "    conda:            4.5.1-py36_0                         --> 4.5.11-py36_1000      conda-forge\n",
            "    openssl:          1.0.2o-h20670df_0                    --> 1.0.2p-h470a237_1     conda-forge\n",
            "    xz:               5.2.3-h55aa19d_2                     --> 5.2.4-h470a237_1      conda-forge\n",
            "\n",
            "Preparing transaction: ...working... done\n",
            "Verifying transaction: ...working... done\n",
            "Executing transaction: ...working... done\n",
            "\n",
            "real\t2m13.643s\n",
            "user\t0m54.482s\n",
            "sys\t0m7.617s\n"
          ],
          "name": "stdout"
        }
      ]
    },
    {
      "metadata": {
        "id": "xfhO0OrakVai",
        "colab_type": "code",
        "colab": {}
      },
      "cell_type": "code",
      "source": [
        ""
      ],
      "execution_count": 0,
      "outputs": []
    },
    {
      "metadata": {
        "id": "dVov3G2vko0e",
        "colab_type": "code",
        "colab": {}
      },
      "cell_type": "code",
      "source": [
        "import sys\n",
        "import os\n",
        "sys.path.append('/usr/local/lib/python3.6/site-packages/')"
      ],
      "execution_count": 0,
      "outputs": []
    },
    {
      "metadata": {
        "id": "hmo4yWHHlGtE",
        "colab_type": "code",
        "colab": {}
      },
      "cell_type": "code",
      "source": [
        "import pandas as pd\n",
        "import numpy as np\n",
        "import altair as alt\n",
        "\n",
        "from rdkit import Chem\n",
        "from rdkit import rdBase\n",
        "from rdkit.Chem import AllChem\n",
        "from rdkit.Chem import DataStructs\n",
        "from rdkit.Chem import PandasTools\n",
        "from rdkit.Chem import RDConfig\n",
        "from rdkit.Chem import Draw\n",
        "from rdkit.Chem.Draw import IPythonConsole\n",
        "\n",
        "from sklearn.decomposition import PCA\n"
      ],
      "execution_count": 0,
      "outputs": []
    },
    {
      "metadata": {
        "id": "Au3LIRosmbtL",
        "colab_type": "code",
        "colab": {
          "base_uri": "https://localhost:8080/",
          "height": 34
        },
        "outputId": "bf43ad64-bffb-41aa-b04b-4b28a372beac"
      },
      "cell_type": "code",
      "source": [
        "print(rdBase.rdkitVersion)"
      ],
      "execution_count": 5,
      "outputs": [
        {
          "output_type": "stream",
          "text": [
            "2018.09.1\n"
          ],
          "name": "stdout"
        }
      ]
    },
    {
      "metadata": {
        "id": "K4zGnGCknHAq",
        "colab_type": "code",
        "colab": {}
      },
      "cell_type": "code",
      "source": [
        "moldf = PandasTools.LoadSDF(os.path.join(RDConfig.RDDocsDir, 'Book/data/cdk2.sdf'))\n",
        "moldf['SMILES'] = moldf.ROMol.apply(Chem.MolToSmiles)"
      ],
      "execution_count": 0,
      "outputs": []
    },
    {
      "metadata": {
        "id": "EqwSQ31XnJQa",
        "colab_type": "code",
        "colab": {
          "base_uri": "https://localhost:8080/",
          "height": 522
        },
        "outputId": "8c3bff73-d6e7-4a93-ed66-772bf380bd92"
      },
      "cell_type": "code",
      "source": [
        "moldf.head(2)"
      ],
      "execution_count": 7,
      "outputs": [
        {
          "output_type": "execute_result",
          "data": {
            "text/html": [
              "<table border=\"1\" class=\"dataframe\">\n",
              "  <thead>\n",
              "    <tr style=\"text-align: right;\">\n",
              "      <th></th>\n",
              "      <th>Cluster</th>\n",
              "      <th>ID</th>\n",
              "      <th>MODEL.CCRATIO</th>\n",
              "      <th>MODEL.SOURCE</th>\n",
              "      <th>ROMol</th>\n",
              "      <th>b_mmffld_Minimization_Converged-OPLS_2005</th>\n",
              "      <th>id</th>\n",
              "      <th>r_mmffld_Potential_Energy-OPLS_2005</th>\n",
              "      <th>r_mmffld_RMS_Derivative-OPLS_2005</th>\n",
              "      <th>s_st_Chirality_1</th>\n",
              "      <th>s_st_Chirality_2</th>\n",
              "      <th>s_st_Chirality_3</th>\n",
              "      <th>SMILES</th>\n",
              "    </tr>\n",
              "  </thead>\n",
              "  <tbody>\n",
              "    <tr>\n",
              "      <th>0</th>\n",
              "      <td>1</td>\n",
              "      <td>ZINC03814457</td>\n",
              "      <td>1</td>\n",
              "      <td>CORINA 3.44 0027  09.01.2008</td>\n",
              "      <td><img src=\"data:image/png;base64,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\" alt=\"Mol\"/></td>\n",
              "      <td>1</td>\n",
              "      <td>ZINC03814457</td>\n",
              "      <td>-78.6454</td>\n",
              "      <td>0.000213629</td>\n",
              "      <td>NaN</td>\n",
              "      <td>NaN</td>\n",
              "      <td>NaN</td>\n",
              "      <td>CC(C)C(=O)COc1nc(N)nc2[nH]cnc12</td>\n",
              "    </tr>\n",
              "    <tr>\n",
              "      <th>1</th>\n",
              "      <td>2</td>\n",
              "      <td>ZINC03814459</td>\n",
              "      <td>1</td>\n",
              "      <td>CORINA 3.44 0027  09.01.2008</td>\n",
              "      <td><img src=\"data:image/png;base64,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\" alt=\"Mol\"/></td>\n",
              "      <td>1</td>\n",
              "      <td>ZINC03814459</td>\n",
              "      <td>-67.4705</td>\n",
              "      <td>9.48919e-05</td>\n",
              "      <td>13_S_17_12_14_24</td>\n",
              "      <td>NaN</td>\n",
              "      <td>NaN</td>\n",
              "      <td>Nc1nc(OCC2CCCO2)c2nc[nH]c2n1</td>\n",
              "    </tr>\n",
              "  </tbody>\n",
              "</table>"
            ],
            "text/plain": [
              "  Cluster            ID MODEL.CCRATIO                  MODEL.SOURCE                                                                                                                                                                                                                                                                                                                                                                                                                                                                                                                                                                                                                                                                                                                                                                                                                                                                                                                                                                                                                                                                                                                                                                                                                                                                                                                                                                                                                                                                                                                                                                                                                                                                                                                                                                                                                                                                                                                                                                                                                                                                                                                                                                                                                                                                                                                                                                                                                                                                                                                                                                                                                                                                                                                                                                                                                                                                                                                                                                                                                                                                                                                                                                                                                                                                                                                                                                                                                                                                                                                                                                                                                                                                                                                                                                                                                                                                                                                                                                                                                                                                                                                                                                                                                                                                                                                                                                                                                                                                                                                                                                                                                                                                                                                                                                                                                                                                                                                                                                                                                                                                                                                                                                                                                                                                                                                                                                                                                                                                                                                                                                                                                                                                                                                                                                                                                                                                                                                                                                                                                                                                                                                                                                                                                                                                                                                                                                                                                                                                                                                                                                                                                                                                                                                                                                                                                                                                                                                                                                                                                                                                                                                                                                                                                                                                                                                                                                                                                                                                                                                                                                                                                                                                                                                                                                                                                                                                                                                                                                                                                                                                                                                                                                                                                                                                                                                                                                                              ROMol b_mmffld_Minimization_Converged-OPLS_2005            id r_mmffld_Potential_Energy-OPLS_2005 r_mmffld_RMS_Derivative-OPLS_2005  s_st_Chirality_1 s_st_Chirality_2 s_st_Chirality_3                           SMILES\n",
              "0       1  ZINC03814457             1  CORINA 3.44 0027  09.01.2008                                                                                                                                                                                                                                                                                                                                                                              <img src=\"data:image/png;base64,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\" alt=\"Mol\"/>                                         1  ZINC03814457                            -78.6454                       0.000213629               NaN              NaN              NaN  CC(C)C(=O)COc1nc(N)nc2[nH]cnc12\n",
              "1       2  ZINC03814459             1  CORINA 3.44 0027  09.01.2008  <img src=\"data:image/png;base64,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\" alt=\"Mol\"/>                                         1  ZINC03814459                            -67.4705                       9.48919e-05  13_S_17_12_14_24              NaN              NaN     Nc1nc(OCC2CCCO2)c2nc[nH]c2n1"
            ]
          },
          "metadata": {
            "tags": []
          },
          "execution_count": 7
        }
      ]
    },
    {
      "metadata": {
        "id": "W-GuP9zinMAB",
        "colab_type": "code",
        "colab": {}
      },
      "cell_type": "code",
      "source": [
        "def mol2fparr(mol):\n",
        "    arr = np.zeros((0,))\n",
        "    fp = AllChem.GetMorganFingerprintAsBitVect(mol,2)\n",
        "    DataStructs.ConvertToNumpyArray(fp, arr)\n",
        "    return arr"
      ],
      "execution_count": 0,
      "outputs": []
    },
    {
      "metadata": {
        "id": "HD7mSiyLnRCS",
        "colab_type": "code",
        "colab": {}
      },
      "cell_type": "code",
      "source": [
        "pca = PCA(n_components=2)"
      ],
      "execution_count": 0,
      "outputs": []
    },
    {
      "metadata": {
        "id": "xebO02g8nTGp",
        "colab_type": "code",
        "colab": {
          "base_uri": "https://localhost:8080/",
          "height": 173
        },
        "outputId": "e19b6afa-a83d-4194-807a-db77d4d789ae"
      },
      "cell_type": "code",
      "source": [
        "X = np.asarray([mol2fparr(mol) for mol in moldf.ROMol])\n",
        "print(X.shape)\n",
        "res = pca.fit_transform(X)\n",
        "print(res.shape)\n",
        "moldf['PCA1'] = res[:,0]\n",
        "moldf['PCA2'] = res[:,1]\n",
        "moldf2 = moldf[['ID', 'PCA1', 'PCA2', 'SMILES' ]]\n",
        "moldf2['Cluster'] = [\"{:0=2}\".format(int(cls)) for cls in moldf.loc[:,'Cluster']]"
      ],
      "execution_count": 10,
      "outputs": [
        {
          "output_type": "stream",
          "text": [
            "(47, 2048)\n",
            "(47, 2)\n"
          ],
          "name": "stdout"
        },
        {
          "output_type": "stream",
          "text": [
            "/usr/local/lib/python3.6/dist-packages/ipykernel_launcher.py:8: SettingWithCopyWarning: \n",
            "A value is trying to be set on a copy of a slice from a DataFrame.\n",
            "Try using .loc[row_indexer,col_indexer] = value instead\n",
            "\n",
            "See the caveats in the documentation: http://pandas.pydata.org/pandas-docs/stable/indexing.html#indexing-view-versus-copy\n",
            "  \n"
          ],
          "name": "stderr"
        }
      ]
    },
    {
      "metadata": {
        "id": "98V_y8k1nXv4",
        "colab_type": "code",
        "colab": {
          "base_uri": "https://localhost:8080/",
          "height": 541
        },
        "outputId": "593ebc6f-a5f2-407f-c954-d12f76362858"
      },
      "cell_type": "code",
      "source": [
        "alt.Chart(moldf2).mark_point().encode(\n",
        "           x = 'PCA1',\n",
        "           y = 'PCA2',\n",
        "           color = 'Cluster',\n",
        "           tooltip = ['ID', 'SMILES']).interactive()"
      ],
      "execution_count": 11,
      "outputs": [
        {
          "output_type": "execute_result",
          "data": {
            "text/plain": [
              "Chart({\n",
              "  data:               ID      PCA1      PCA2                                                             SMILES Cluster\n",
              "  0   ZINC03814457  2.179482 -1.307285                                    CC(C)C(=O)COc1nc(N)nc2[nH]cnc12      01\n",
              "  1   ZINC03814459  2.850680 -2.795289                                       Nc1nc(OCC2CCCO2)c2nc[nH]c2n1      02\n",
              "  2   ZINC03814460  2.438624 -2.717656                                   Nc1nc(OCC2CCC(=O)N2)c2nc[nH]c2n1      02\n",
              "  3   ZINC00023543  3.241061 -3.078867                                      Nc1nc(OCC2CCCCC2)c2nc[nH]c2n1      03\n",
              "  4   ZINC03814458  2.986380 -2.813767                                     Nc1nc(OCC2CC=CCC2)c2nc[nH]c2n1      03\n",
              "  5   ZINC01641925  2.054942  2.794129                                   Cn1cnc2c(NCc3ccccc3)nc(NCCO)nc21      03\n",
              "  6   ZINC01649340  2.385827  3.468200                           CCC(CO)Nc1nc(NCc2ccccc2)c2ncn(C(C)C)c2n1      03\n",
              "  7   ZINC01487345  1.894355  3.035712                        COc1ccc(CNc2nc(N(CCO)CCO)nc3c2ncn3C(C)C)cc1      03\n",
              "  8   ZINC03814479  2.336787 -2.298001                                      Nc1nc(N)c(N=O)c(OCC2CCCCC2)n1      04\n",
              "  9   ZINC03814467 -2.317997 -0.892284                              COc1ccc2c(c1)/C(=C/c1cnc[nH]1)C(=O)N2      05\n",
              "  10  ZINC03814470 -2.922876 -1.331336                    COc1cc[nH]c1/C=C1\\C(=O)Nc2ccc([N+](=O)[O-])cc21      05\n",
              "  11  ZINC03814455  0.621407  1.036628                                  CCc1cnc(CSc2cnc(NC(=O)C(C)C)s2)o1      06\n",
              "  12  ZINC03814464  0.413046  0.171573                                CCCCOc1c(C(=O)c2nccs2)cnc2[nH]ncc12      07\n",
              "  13  ZINC00003491 -2.184112 -0.529728                           COc1cc(-c2ccc[nH]2)c2c3c(ccc(F)c13)NC2=O      08\n",
              "  14  ZINC03814473 -1.859312 -0.552553                    [NH3+]CCSc1cc(-c2ccc[nH]2)c2c3c(ccc(F)c13)NC2=O      08\n",
              "  15  ZINC03814477 -1.359618  2.085969                          NC(=O)Nc1cccc2c1C(=O)c1c-2n[nH]c1-c1cccs1      09\n",
              "  16  ZINC03814468 -2.668856 -1.043023                      COc1ccc2c(c1)/C(=C/c1[nH]cc3c1CCOC3=O)C(=O)N2      10\n",
              "  17  ZINC03814469 -2.970749 -1.261489             CNS(=O)(=O)c1ccc2c(c1)/C(=C/c1[nH]cc3c1CCNC3=O)C(=O)N2      10\n",
              "  18  ZINC03814476 -1.458023  2.329317                         CC(=O)Nc1cccc2c1C(=O)c1c-2n[nH]c1-c1ccncc1      11\n",
              "  19  ZINC00023904 -1.541466  2.322890                   COc1ccc(-c2[nH]nc3c2C(=O)c2c(NC(N)=O)cccc2-3)cc1      11\n",
              "  20  ZINC03814475 -1.587264  2.580476              COc1ccc(-c2[nH]nc3c2C(=O)c2c(NC(=O)NN(C)C)cccc2-3)cc1      11\n",
              "  21  ZINC03814452  1.168202  1.058097                                 Cc1nc2ccccn2c1-c1ccnc(Nc2ccccc2)n1      12\n",
              "  22  ZINC03814454  1.387061  1.249659               Cc1nc2ccccn2c1-c1ccnc(Nc2ccc(OCC(O)C[NH+](C)C)cc2)n1      12\n",
              "  23  ZINC03814449  0.063269  1.024598                                O=C(Nc1ccccn1)Nc1cccc2c1C1CCCN1C2=O      13\n",
              "  24  ZINC03814441 -2.089428 -1.178241                     NS(=O)(=O)c1ccc(N/N=C2\\C(=O)Nc3ccc(Br)cc32)cc1      14\n",
              "  25  ZINC03814443 -2.937259 -0.688692                        CNS(=O)(=O)c1ccc(N/C=C2\\C(=O)Nc3ccccc32)cc1      14\n",
              "  26  ZINC04617747 -2.803158 -0.684626                   N=C(N)NS(=O)(=O)c1ccc(N/C=C2\\C(=O)Nc3ccccc32)cc1      14\n",
              "  27  ZINC03814440 -2.367895 -0.187555                      O=C1Nc2ccc(S(=O)(=O)O)cc2/C1=C1/Nc2ccccc2C1=O      15\n",
              "  28  ZINC03814462  3.156025 -2.231488                            c1ccc(Nc2nc(OCC3CCCCC3)c3nc[nH]c3n2)cc1      16\n",
              "  29  ZINC00603011  2.665344 -3.088879                  NS(=O)(=O)c1ccc(Nc2nc(OCC3CCCCC3)c3nc[nH]c3n2)cc1      16\n",
              "  30  ZINC00023841  0.565397  0.533743                            O=C(c1ccccc1)c1cnc2n[nH]cc2c1OCc1ccccc1      17\n",
              "  31  ZINC03814450 -0.783770 -0.564714           NS(=O)(=O)c1ccc(Nc2cc(-c3ccc([N+](=O)[O-])cc3)[nH]n2)cc1      18\n",
              "  32  ZINC03814465  0.287972  0.170321                       CCCCOc1c(C(=O)c2c(F)cc(Br)cc2F)cnc2[nH]ncc12      19\n",
              "  33  ZINC03814453  0.156667 -0.161817                     Cc1ccc(F)c(Nc2ccnc(Nc3ccc(S(N)(=O)=O)cc3)n2)c1      20\n",
              "  34  ZINC00582575  2.152828  3.156368                     CC(C)C(CO)Nc1nc(Nc2cccc(Cl)c2)c2ncn(C(C)C)c2n1      21\n",
              "  35  ZINC03814437  1.946341  2.937987          CC(C)C(CO)Nc1nc(Nc2ccc(C(=O)[O-])c(Cl)c2)c2ncn(C(C)C)c2n1      21\n",
              "  36  ZINC03814439  3.055608  1.080857                   [NH3+]C1CCC(Nc2nc(NCC3CC3)c3ncn(C4CCCC4)c3n2)CC1      22\n",
              "  37  ZINC03814451  2.461549 -1.825371                      NC(=O)c1ccc(Nc2nc(N)c(N=O)c(OCC3CCCCC3)n2)cc1      23\n",
              "  38  ZINC03814447 -2.625373 -0.814955                    O=C1Nc2ccccc2/C1=C/Nc1ccc(S(=O)(=O)Nc2nccs2)cc1      24\n",
              "  39  ZINC03814444 -1.547311 -0.424814                  CNS(=O)(=O)Cc1ccc(N/N=C2\\C(=O)Nc3ccc4ncsc4c32)cc1      25\n",
              "  40  ZINC04617746 -2.426521 -0.873310              O=C1Nc2ccc(-c3cnco3)cc2/C1=C/Nc1ccc2c(c1)CS(=O)(=O)C2      26\n",
              "  41  ZINC04617745 -0.286839  0.638092            C[NH+]1CCC(c2c(O)cc(O)c3c(=O)cc(-c4ccccc4Cl)oc23)C(O)C1      27\n",
              "  42  ZINC04617748 -2.160050 -1.453966  COc1cc[nH]c1/C=C1\\C(=O)Nc2ccc([N+](=O)[O-])c(N3CCCC(C(N)=O)C3)c21      28\n",
              "  43  ZINC03814433 -0.798761 -0.562959     C[NH+]1CCC(c2c(O)cc(O)c3c2O/C(=C\\c2ccc(S(N)(=O)=O)cc2)C3=O)CC1      29\n",
              "  44  ZINC03591113  3.011160  1.942922                [NH3+]C1CCC(Nc2nc(NCc3ccccc3)c3ncn(C4CCCC4)c3n2)CC1      30\n",
              "  45  ZINC03814478 -1.178893  2.540816   Cc1nc(C)c(-c2[nH]nc3c2C(=O)c2c(NC(=O)NN4CC[NH+](C)CC4)cccc2-3)s1      31\n",
              "  46  ZINC03831630 -2.604485 -0.795688              O=C1Nc2ccc3ncsc3c2/C1=C/Nc1ccc(S(=O)(=O)Nc2ccccn2)cc1      32,\n",
              "  encoding: EncodingWithFacet({\n",
              "    color: Color({\n",
              "      shorthand: 'Cluster'\n",
              "    }),\n",
              "    tooltip: [Tooltip({\n",
              "      shorthand: 'ID'\n",
              "    }), Tooltip({\n",
              "      shorthand: 'SMILES'\n",
              "    })],\n",
              "    x: X({\n",
              "      shorthand: 'PCA1'\n",
              "    }),\n",
              "    y: Y({\n",
              "      shorthand: 'PCA2'\n",
              "    })\n",
              "  }),\n",
              "  mark: 'point',\n",
              "  selection: SelectionMapping({\n",
              "    selector001: SelectionDef({\n",
              "      bind: 'scales',\n",
              "      encodings: ['x', 'y'],\n",
              "      type: 'interval'\n",
              "    })\n",
              "  })\n",
              "})"
            ],
            "text/html": [
              "\n",
              "<!DOCTYPE html>\n",
              "<html>\n",
              "<head>\n",
              "  <style>\n",
              "    .vega-actions a {\n",
              "        margin-right: 12px;\n",
              "        color: #757575;\n",
              "        font-weight: normal;\n",
              "        font-size: 13px;\n",
              "    }\n",
              "    .error {\n",
              "        color: red;\n",
              "    }\n",
              "  </style>\n",
              "\n",
              "<script src=\"https://cdn.jsdelivr.net/npm//vega@3.3.1\"></script>\n",
              "<script src=\"https://cdn.jsdelivr.net/npm//vega-lite@2.6.0\"></script>\n",
              "<script src=\"https://cdn.jsdelivr.net/npm//vega-embed@3.14\"></script>\n",
              "\n",
              "</head>\n",
              "<body>\n",
              "  <div id=\"vis\"></div>\n",
              "  <script type=\"text/javascript\">\n",
              "    var spec = {\"config\": {\"view\": {\"width\": 400, \"height\": 300}}, \"data\": {\"name\": \"data-cd48338a2d7bb79f51f0d36ac5faba2a\"}, \"mark\": \"point\", \"encoding\": {\"color\": {\"type\": \"nominal\", \"field\": \"Cluster\"}, \"tooltip\": [{\"type\": \"nominal\", \"field\": \"ID\"}, {\"type\": \"nominal\", \"field\": \"SMILES\"}], \"x\": {\"type\": \"quantitative\", \"field\": \"PCA1\"}, \"y\": {\"type\": \"quantitative\", \"field\": \"PCA2\"}}, \"selection\": {\"selector001\": {\"type\": \"interval\", \"bind\": \"scales\", \"encodings\": [\"x\", \"y\"]}}, \"$schema\": \"https://vega.github.io/schema/vega-lite/v2.6.0.json\", \"datasets\": {\"data-cd48338a2d7bb79f51f0d36ac5faba2a\": [{\"ID\": \"ZINC03814457\", \"PCA1\": 2.179482237910055, \"PCA2\": -1.3072852886620259, \"SMILES\": \"CC(C)C(=O)COc1nc(N)nc2[nH]cnc12\", \"Cluster\": \"01\"}, {\"ID\": \"ZINC03814459\", \"PCA1\": 2.850680222552884, \"PCA2\": -2.795289158759105, \"SMILES\": \"Nc1nc(OCC2CCCO2)c2nc[nH]c2n1\", \"Cluster\": \"02\"}, {\"ID\": \"ZINC03814460\", \"PCA1\": 2.438623676847372, \"PCA2\": -2.717655505201218, \"SMILES\": \"Nc1nc(OCC2CCC(=O)N2)c2nc[nH]c2n1\", \"Cluster\": \"02\"}, {\"ID\": \"ZINC00023543\", \"PCA1\": 3.241061198029072, \"PCA2\": -3.078866768544237, \"SMILES\": \"Nc1nc(OCC2CCCCC2)c2nc[nH]c2n1\", \"Cluster\": \"03\"}, {\"ID\": \"ZINC03814458\", \"PCA1\": 2.9863801971834256, \"PCA2\": -2.8137668421605015, \"SMILES\": \"Nc1nc(OCC2CC=CCC2)c2nc[nH]c2n1\", \"Cluster\": \"03\"}, {\"ID\": \"ZINC01641925\", \"PCA1\": 2.0549421155959986, \"PCA2\": 2.7941286101219966, \"SMILES\": \"Cn1cnc2c(NCc3ccccc3)nc(NCCO)nc21\", \"Cluster\": \"03\"}, {\"ID\": \"ZINC01649340\", \"PCA1\": 2.3858267660188304, \"PCA2\": 3.468199764885134, \"SMILES\": \"CCC(CO)Nc1nc(NCc2ccccc2)c2ncn(C(C)C)c2n1\", \"Cluster\": \"03\"}, {\"ID\": \"ZINC01487345\", \"PCA1\": 1.8943550150790514, \"PCA2\": 3.035711722604437, \"SMILES\": \"COc1ccc(CNc2nc(N(CCO)CCO)nc3c2ncn3C(C)C)cc1\", \"Cluster\": \"03\"}, {\"ID\": \"ZINC03814479\", \"PCA1\": 2.3367874609720634, \"PCA2\": -2.298000713387374, \"SMILES\": \"Nc1nc(N)c(N=O)c(OCC2CCCCC2)n1\", \"Cluster\": \"04\"}, {\"ID\": \"ZINC03814467\", \"PCA1\": -2.317997162389226, \"PCA2\": -0.8922838721050768, \"SMILES\": \"COc1ccc2c(c1)/C(=C/c1cnc[nH]1)C(=O)N2\", \"Cluster\": \"05\"}, {\"ID\": \"ZINC03814470\", \"PCA1\": -2.922875943806278, \"PCA2\": -1.3313358203958072, \"SMILES\": \"COc1cc[nH]c1/C=C1\\\\C(=O)Nc2ccc([N+](=O)[O-])cc21\", \"Cluster\": \"05\"}, {\"ID\": \"ZINC03814455\", \"PCA1\": 0.62140689959164, \"PCA2\": 1.0366276858252648, \"SMILES\": \"CCc1cnc(CSc2cnc(NC(=O)C(C)C)s2)o1\", \"Cluster\": \"06\"}, {\"ID\": \"ZINC03814464\", \"PCA1\": 0.4130461044871487, \"PCA2\": 0.17157260109232103, \"SMILES\": \"CCCCOc1c(C(=O)c2nccs2)cnc2[nH]ncc12\", \"Cluster\": \"07\"}, {\"ID\": \"ZINC00003491\", \"PCA1\": -2.184111776408945, \"PCA2\": -0.5297283399215128, \"SMILES\": \"COc1cc(-c2ccc[nH]2)c2c3c(ccc(F)c13)NC2=O\", \"Cluster\": \"08\"}, {\"ID\": \"ZINC03814473\", \"PCA1\": -1.859311561879114, \"PCA2\": -0.5525533090342993, \"SMILES\": \"[NH3+]CCSc1cc(-c2ccc[nH]2)c2c3c(ccc(F)c13)NC2=O\", \"Cluster\": \"08\"}, {\"ID\": \"ZINC03814477\", \"PCA1\": -1.3596178361377975, \"PCA2\": 2.085968532637349, \"SMILES\": \"NC(=O)Nc1cccc2c1C(=O)c1c-2n[nH]c1-c1cccs1\", \"Cluster\": \"09\"}, {\"ID\": \"ZINC03814468\", \"PCA1\": -2.668855887515874, \"PCA2\": -1.0430229595050267, \"SMILES\": \"COc1ccc2c(c1)/C(=C/c1[nH]cc3c1CCOC3=O)C(=O)N2\", \"Cluster\": \"10\"}, {\"ID\": \"ZINC03814469\", \"PCA1\": -2.970748944059586, \"PCA2\": -1.2614894329562252, \"SMILES\": \"CNS(=O)(=O)c1ccc2c(c1)/C(=C/c1[nH]cc3c1CCNC3=O)C(=O)N2\", \"Cluster\": \"10\"}, {\"ID\": \"ZINC03814476\", \"PCA1\": -1.4580226639989855, \"PCA2\": 2.329317236950373, \"SMILES\": \"CC(=O)Nc1cccc2c1C(=O)c1c-2n[nH]c1-c1ccncc1\", \"Cluster\": \"11\"}, {\"ID\": \"ZINC00023904\", \"PCA1\": -1.5414657321517033, \"PCA2\": 2.322889871797197, \"SMILES\": \"COc1ccc(-c2[nH]nc3c2C(=O)c2c(NC(N)=O)cccc2-3)cc1\", \"Cluster\": \"11\"}, {\"ID\": \"ZINC03814475\", \"PCA1\": -1.5872640126251911, \"PCA2\": 2.580475875233011, \"SMILES\": \"COc1ccc(-c2[nH]nc3c2C(=O)c2c(NC(=O)NN(C)C)cccc2-3)cc1\", \"Cluster\": \"11\"}, {\"ID\": \"ZINC03814452\", \"PCA1\": 1.168201976124123, \"PCA2\": 1.05809721309141, \"SMILES\": \"Cc1nc2ccccn2c1-c1ccnc(Nc2ccccc2)n1\", \"Cluster\": \"12\"}, {\"ID\": \"ZINC03814454\", \"PCA1\": 1.3870606837633201, \"PCA2\": 1.2496592687315322, \"SMILES\": \"Cc1nc2ccccn2c1-c1ccnc(Nc2ccc(OCC(O)C[NH+](C)C)cc2)n1\", \"Cluster\": \"12\"}, {\"ID\": \"ZINC03814449\", \"PCA1\": 0.06326905036771387, \"PCA2\": 1.0245981026288107, \"SMILES\": \"O=C(Nc1ccccn1)Nc1cccc2c1C1CCCN1C2=O\", \"Cluster\": \"13\"}, {\"ID\": \"ZINC03814441\", \"PCA1\": -2.089428499152587, \"PCA2\": -1.17824138682131, \"SMILES\": \"NS(=O)(=O)c1ccc(N/N=C2\\\\C(=O)Nc3ccc(Br)cc32)cc1\", \"Cluster\": \"14\"}, {\"ID\": \"ZINC03814443\", \"PCA1\": -2.9372592202243815, \"PCA2\": -0.6886918165737853, \"SMILES\": \"CNS(=O)(=O)c1ccc(N/C=C2\\\\C(=O)Nc3ccccc32)cc1\", \"Cluster\": \"14\"}, {\"ID\": \"ZINC04617747\", \"PCA1\": -2.803157775526208, \"PCA2\": -0.6846258815367225, \"SMILES\": \"N=C(N)NS(=O)(=O)c1ccc(N/C=C2\\\\C(=O)Nc3ccccc32)cc1\", \"Cluster\": \"14\"}, {\"ID\": \"ZINC03814440\", \"PCA1\": -2.367894720351276, \"PCA2\": -0.18755450881958402, \"SMILES\": \"O=C1Nc2ccc(S(=O)(=O)O)cc2/C1=C1/Nc2ccccc2C1=O\", \"Cluster\": \"15\"}, {\"ID\": \"ZINC03814462\", \"PCA1\": 3.1560251322004937, \"PCA2\": -2.2314881865853446, \"SMILES\": \"c1ccc(Nc2nc(OCC3CCCCC3)c3nc[nH]c3n2)cc1\", \"Cluster\": \"16\"}, {\"ID\": \"ZINC00603011\", \"PCA1\": 2.665344262866761, \"PCA2\": -3.088878682144755, \"SMILES\": \"NS(=O)(=O)c1ccc(Nc2nc(OCC3CCCCC3)c3nc[nH]c3n2)cc1\", \"Cluster\": \"16\"}, {\"ID\": \"ZINC00023841\", \"PCA1\": 0.5653968155704602, \"PCA2\": 0.5337425703902611, \"SMILES\": \"O=C(c1ccccc1)c1cnc2n[nH]cc2c1OCc1ccccc1\", \"Cluster\": \"17\"}, {\"ID\": \"ZINC03814450\", \"PCA1\": -0.7837695146252242, \"PCA2\": -0.5647143834389097, \"SMILES\": \"NS(=O)(=O)c1ccc(Nc2cc(-c3ccc([N+](=O)[O-])cc3)[nH]n2)cc1\", \"Cluster\": \"18\"}, {\"ID\": \"ZINC03814465\", \"PCA1\": 0.2879724483635915, \"PCA2\": 0.17032095030301278, \"SMILES\": \"CCCCOc1c(C(=O)c2c(F)cc(Br)cc2F)cnc2[nH]ncc12\", \"Cluster\": \"19\"}, {\"ID\": \"ZINC03814453\", \"PCA1\": 0.15666682454713304, \"PCA2\": -0.16181659525754064, \"SMILES\": \"Cc1ccc(F)c(Nc2ccnc(Nc3ccc(S(N)(=O)=O)cc3)n2)c1\", \"Cluster\": \"20\"}, {\"ID\": \"ZINC00582575\", \"PCA1\": 2.152827809368163, \"PCA2\": 3.1563680874297697, \"SMILES\": \"CC(C)C(CO)Nc1nc(Nc2cccc(Cl)c2)c2ncn(C(C)C)c2n1\", \"Cluster\": \"21\"}, {\"ID\": \"ZINC03814437\", \"PCA1\": 1.9463406815650584, \"PCA2\": 2.9379873523564863, \"SMILES\": \"CC(C)C(CO)Nc1nc(Nc2ccc(C(=O)[O-])c(Cl)c2)c2ncn(C(C)C)c2n1\", \"Cluster\": \"21\"}, {\"ID\": \"ZINC03814439\", \"PCA1\": 3.0556077249213027, \"PCA2\": 1.0808571299190715, \"SMILES\": \"[NH3+]C1CCC(Nc2nc(NCC3CC3)c3ncn(C4CCCC4)c3n2)CC1\", \"Cluster\": \"22\"}, {\"ID\": \"ZINC03814451\", \"PCA1\": 2.4615486676252756, \"PCA2\": -1.8253707005222548, \"SMILES\": \"NC(=O)c1ccc(Nc2nc(N)c(N=O)c(OCC3CCCCC3)n2)cc1\", \"Cluster\": \"23\"}, {\"ID\": \"ZINC03814447\", \"PCA1\": -2.625372813015212, \"PCA2\": -0.8149550786120744, \"SMILES\": \"O=C1Nc2ccccc2/C1=C/Nc1ccc(S(=O)(=O)Nc2nccs2)cc1\", \"Cluster\": \"24\"}, {\"ID\": \"ZINC03814444\", \"PCA1\": -1.5473106547137, \"PCA2\": -0.42481407149639006, \"SMILES\": \"CNS(=O)(=O)Cc1ccc(N/N=C2\\\\C(=O)Nc3ccc4ncsc4c32)cc1\", \"Cluster\": \"25\"}, {\"ID\": \"ZINC04617746\", \"PCA1\": -2.426521351395565, \"PCA2\": -0.8733099090667302, \"SMILES\": \"O=C1Nc2ccc(-c3cnco3)cc2/C1=C/Nc1ccc2c(c1)CS(=O)(=O)C2\", \"Cluster\": \"26\"}, {\"ID\": \"ZINC04617745\", \"PCA1\": -0.28683889774403437, \"PCA2\": 0.6380918249539955, \"SMILES\": \"C[NH+]1CCC(c2c(O)cc(O)c3c(=O)cc(-c4ccccc4Cl)oc23)C(O)C1\", \"Cluster\": \"27\"}, {\"ID\": \"ZINC04617748\", \"PCA1\": -2.160049974986815, \"PCA2\": -1.4539664280927422, \"SMILES\": \"COc1cc[nH]c1/C=C1\\\\C(=O)Nc2ccc([N+](=O)[O-])c(N3CCCC(C(N)=O)C3)c21\", \"Cluster\": \"28\"}, {\"ID\": \"ZINC03814433\", \"PCA1\": -0.7987609107254293, \"PCA2\": -0.5629587023408889, \"SMILES\": \"C[NH+]1CCC(c2c(O)cc(O)c3c2O/C(=C\\\\c2ccc(S(N)(=O)=O)cc2)C3=O)CC1\", \"Cluster\": \"29\"}, {\"ID\": \"ZINC03591113\", \"PCA1\": 3.0111597470145575, \"PCA2\": 1.9429220091624457, \"SMILES\": \"[NH3+]C1CCC(Nc2nc(NCc3ccccc3)c3ncn(C4CCCC4)c3n2)CC1\", \"Cluster\": \"30\"}, {\"ID\": \"ZINC03814478\", \"PCA1\": -1.1788926877105337, \"PCA2\": 2.540815945793129, \"SMILES\": \"Cc1nc(C)c(-c2[nH]nc3c2C(=O)c2c(NC(=O)NN4CC[NH+](C)CC4)cccc2-3)s1\", \"Cluster\": \"31\"}, {\"ID\": \"ZINC03831630\", \"PCA1\": -2.6044851774218314, \"PCA2\": -0.7956880139655693, \"SMILES\": \"O=C1Nc2ccc3ncsc3c2/C1=C/Nc1ccc(S(=O)(=O)Nc2ccccn2)cc1\", \"Cluster\": \"32\"}]}};\n",
              "    var embed_opt = {\"mode\": \"vega-lite\"};\n",
              "\n",
              "    function showError(el, error){\n",
              "        el.innerHTML = ('<div class=\"error\">'\n",
              "                        + '<p>JavaScript Error: ' + error.message + '</p>'\n",
              "                        + \"<p>This usually means there's a typo in your chart specification. \"\n",
              "                        + \"See the javascript console for the full traceback.</p>\"\n",
              "                        + '</div>');\n",
              "        throw error;\n",
              "    }\n",
              "    const el = document.getElementById('vis');\n",
              "    vegaEmbed(\"#vis\", spec, embed_opt)\n",
              "      .catch(error => showError(el, error));\n",
              "  </script>\n",
              "</body>\n",
              "</html>\n"
            ]
          },
          "metadata": {
            "tags": []
          },
          "execution_count": 11
        }
      ]
    },
    {
      "metadata": {
        "id": "Fa12fYoolIjt",
        "colab_type": "code",
        "colab": {}
      },
      "cell_type": "code",
      "source": [
        ""
      ],
      "execution_count": 0,
      "outputs": []
    }
  ]
}